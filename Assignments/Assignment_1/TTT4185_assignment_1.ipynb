{
 "cells": [
  {
   "cell_type": "markdown",
   "metadata": {},
   "source": [
    "# TTT4185 Machine learning for Speech technology\n",
    "\n",
    "## Computer assigment 1: Speech analysis\n",
    "\n",
    "This assignment assumes that the student has knowledge about short-time spectral estimation, linear prediction modeling and cepstral analysis. You should also know the concept of fundamental frequencies and formants.\n",
    "\n",
    "Useful plotting commands from `matplotlib.pyplot`: `figure`, `plot`, `subplots`, `pcolormesh`"
   ]
  },
  {
   "cell_type": "markdown",
   "metadata": {},
   "source": [
    "### Problem 1\n",
    "\n",
    "In this problem we will look at a speech signal and do simple spectral analysis on the signal.\n",
    "\n",
    "(a) Download the speech file `stry.wav` from Blackboard and load the file using `scipy.io.wavefile.read`. The speech represents the latter half of the English word \"tapestry\". The phonetic transcription is /s/ /t/ /r/ /iy/.\n",
    "- Plot the signal.\n",
    "- What is characteristic about the sounds /s/, /t/, /r/ and /iy/?\n",
    "- Take a 40 millisecond subset of the vowel /iy/ and plot it.\n",
    "- Find the fundamental frequency $f_0$ of the vowel."
   ]
  },
  {
   "cell_type": "code",
   "execution_count": null,
   "metadata": {},
   "outputs": [],
   "source": [
    "import scipy.io.wavfile\n",
    "Fs, data = scipy.io.wavfile.read('stry.wav')"
   ]
  },
  {
   "cell_type": "markdown",
   "metadata": {},
   "source": [
    "(b) Spectral analysis\n",
    "- Estimate the spectrum of the vowel using an FFT of length 1024. Plot the spectrum expressed in dBs ($20 \\log_10(x)$) as a function of frequency.\n",
    "- Multiply the signal by a Hamming window and repeat the last operation.\n",
    "- Explain the difference between the two spectra.\n",
    "- Estimate the fundamental frequency $f_0$ using the spectrum, and compare the result to what you got in 1a)\n",
    "- Roughly estimate the two first formant frequencies.\n",
    "\n",
    "Useful Python functions: `numpy.fft.fft`, `numpy.abs`, `scipy.signal.hamming`."
   ]
  },
  {
   "cell_type": "code",
   "execution_count": null,
   "metadata": {},
   "outputs": [],
   "source": []
  },
  {
   "cell_type": "code",
   "execution_count": null,
   "metadata": {
    "lines_to_next_cell": 2
   },
   "outputs": [],
   "source": []
  },
  {
   "cell_type": "markdown",
   "metadata": {},
   "source": [
    "(c) AR modeling\n",
    "- Compute the coefficients of an AR model (linear prediction coefficients) with order 4, 8, 16 and 50, based on the vowel.\n",
    "- Estimate the spectrum for each of the model orders. Plot the spectrum in dBs as a function of frequency.\n",
    "- Compare your results with the spectrum from 1b). Which model order yields the \"best\" spectral envelope? What happens if the model order is too high or too low?\n",
    "- Why is it not possible to estimate the fundamental frequency based on the LP model?\n",
    "\n",
    "Useful Python functions: `pysptk.sptk.lpc`, `scipy.signal.freqz`. Check the documentation of the sptk package https://netix.dl.sourceforge.net/project/sp-tk to know which parameters are returned by the `lpc` function, and what model they correspond to."
   ]
  },
  {
   "cell_type": "code",
   "execution_count": null,
   "metadata": {},
   "outputs": [],
   "source": []
  },
  {
   "cell_type": "markdown",
   "metadata": {},
   "source": [
    "(d) Use `scipy.signal.spectrogram` to create a spectrogram of the entire speech signal. Try to generate both wide- and narrow-band spectrograms by adjusting the window lengths and overlaps. Which characteristic traits of the speech sounds /s/, /t/, /r/ and /iy/ can you see from the spectrogram?"
   ]
  },
  {
   "cell_type": "code",
   "execution_count": null,
   "metadata": {},
   "outputs": [],
   "source": []
  },
  {
   "cell_type": "markdown",
   "metadata": {},
   "source": [
    "### Problem 2\n",
    "In this problem we look at the cepstrum and deconvolution\n",
    "\n",
    "(a) Compute and plot the real cepstrum of the vowel from problem 1a)."
   ]
  },
  {
   "cell_type": "code",
   "execution_count": null,
   "metadata": {},
   "outputs": [],
   "source": []
  },
  {
   "cell_type": "markdown",
   "metadata": {},
   "source": [
    "(b) Use the cepstrum to compute the fundamental frequency $f_0$. Compare your results with those obtained in problem 1)."
   ]
  },
  {
   "cell_type": "code",
   "execution_count": null,
   "metadata": {},
   "outputs": [],
   "source": []
  },
  {
   "cell_type": "markdown",
   "metadata": {},
   "source": [
    "(c) In this subproblem you will use the cepstrum to estimate the spectral envelope\n",
    "- Use liftering to extract the part of the ceptrum that represents the spectral envelope.\n",
    "- Plot the spectral envelope as a function of frequency, and compare the result with the results from problem 1).\n",
    "\n",
    "Hint 1: Remember that the cepstrum of a real signal is symmetric, so the liftered signal mus be symmetric as well.\n",
    "\n",
    "Hint 2: The FFT of a real, symmtric signal is real, but due to round-off errors small imaginary noise may occur. Use `np.real` to get to the real part of the liftered log-spectrum."
   ]
  },
  {
   "cell_type": "code",
   "execution_count": null,
   "metadata": {},
   "outputs": [],
   "source": []
  }
 ],
 "metadata": {
  "jupytext": {
   "formats": "ipynb,py:light"
  },
  "kernelspec": {
   "display_name": "Python 3",
   "language": "python",
   "name": "python3"
  }
 },
 "nbformat": 4,
 "nbformat_minor": 4
}
