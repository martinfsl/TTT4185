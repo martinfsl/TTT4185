{
 "cells": [
  {
   "cell_type": "markdown",
   "metadata": {},
   "source": [
    "# TTT4185 Machine learning for Speech technology\n",
    "## Voluntary computer assignment 0: Python introduction"
   ]
  },
  {
   "cell_type": "markdown",
   "metadata": {},
   "source": [
    "## Installation"
   ]
  },
  {
   "cell_type": "markdown",
   "metadata": {},
   "source": [
    "### Install Python 3 through Miniconda\n",
    "\n",
    "Different projects may use different versions of Python and its packages. As a best practice, each project should have its own virtual environment. To manage this, we recommend you to install Miniconda, the minimal installer for conda, an open-source package and environment manager for many programming languages, including Python.\n",
    "\n",
    "You can find the suitable Miniconda installer (remember to select Python 3) for you here:\n",
    "https://docs.conda.io/en/latest/miniconda.html\n",
    "\n",
    "PS: This installation tutorial assumes that you have Miniconda installed, but if you do not want to use prompt commands, then we recommend you to install Anaconda instead. Anaconda includes everything that Miniconda does, plus many packages (a lot more than needed for this course) and the Anaconda Navigator, allowing you to manage environments and packages without using the prompt.\n",
    "You can download Anaconda here: https://www.anaconda.com/products/individual"
   ]
  },
  {
   "cell_type": "markdown",
   "metadata": {},
   "source": [
    "### Create an environment for this course\n",
    "\n",
    "Use the terminal (or the Anaconda prompt) to run the following commands.\n",
    "\n",
    "To create a new environment:\n",
    "\n",
    "- conda create --name ttt4185\n",
    "\n",
    "To verify if it was correctly installed, check if the new environment appears here:\n",
    "\n",
    "- conda env list\n",
    "\n",
    "To learn more about environment management, go here:\n",
    "https://docs.conda.io/projects/conda/en/latest/user-guide/tasks/manage-environments.html"
   ]
  },
  {
   "cell_type": "markdown",
   "metadata": {},
   "source": [
    "### Install packages\n",
    "\n",
    "There are three main channels through where we can install packages in a conda environment: pip, conda defaults and conda-forge.\n",
    "\n",
    "To install the primary packages for this course, we use conda defaults. Remember to always activate your environment first.\n",
    "- conda activate ttt4185\n",
    "- conda install PACKAGE\n",
    "\n",
    "*Task: Activate the environment you've created for the course and install numpy, pandas, matplotlib and scikit-learn using conda defaults*\n",
    "\n",
    "You might need to install extra packages throughout the course. If you can not find the desired package on conda defaults, try using conda-forge or pip.\n",
    "\n",
    "To install packages from conda-forge:\n",
    "- conda install -c conda-forge PACKAGE\n",
    "\n",
    "To install packages through the pip command, you should first install it:\n",
    "- conda install pip\n",
    "- pip install PACKAGE"
   ]
  },
  {
   "cell_type": "markdown",
   "metadata": {},
   "source": [
    "### Install Jupyter notebook\n",
    "\n",
    "We use Jupyter notebooks to combine code, outputs and text in the same file. This gives us a lot more interaction with the data and an easier time explaining what has been done and documenting the code.\n",
    "\n",
    "To install Jupyter on the new environment:\n",
    "- conda activate ttt4185\n",
    "- pip install jupyter\n",
    "\n",
    "To be able to use the created environment in Jupyter, we need to create a kernel for it:\n",
    "- conda install ipykernel --name ttt4185\n",
    "- python -m ipykernel install --name TTT4185 --user\n",
    "\n",
    "Now you are able to launch notebook through the following command:\n",
    "- jupyter notebook\n",
    "\n",
    "From now on, you can open the .ipynb files and select kernel to the created environment \"TTT4185\".\n",
    "\n",
    "A Jupyter notebook is composed of cells (either text or code based) and you can run cells by pressing the \"Run\" button or shift+return. If you are unfamiliar with Jupyter, go to Help>User Interface Tour for a quick presentation."
   ]
  },
  {
   "cell_type": "markdown",
   "metadata": {},
   "source": [
    "### Import packages and modules\n",
    "\n",
    "Python is based on packages and modules that must be loaded to become available. So to use a function from a package/module on Python, you need to import it first. Example:"
   ]
  },
  {
   "cell_type": "code",
   "execution_count": null,
   "metadata": {},
   "outputs": [],
   "source": [
    "import math\n",
    "math.sqrt(4)"
   ]
  },
  {
   "cell_type": "markdown",
   "metadata": {},
   "source": [
    "If you're using a package many times, it's recommended to rename it using \"as\". Please follow the common existent abbreviations such as:"
   ]
  },
  {
   "cell_type": "code",
   "execution_count": null,
   "metadata": {},
   "outputs": [],
   "source": [
    "import numpy as np\n",
    "import pandas as pd"
   ]
  },
  {
   "cell_type": "markdown",
   "metadata": {},
   "source": [
    "If you're using specific modules of a package, you can import only these modules by using \"from\". Examples:"
   ]
  },
  {
   "cell_type": "code",
   "execution_count": null,
   "metadata": {},
   "outputs": [],
   "source": [
    "# instead of this:\n",
    "import numpy as np\n",
    "np.sqrt(4), np.cos(np.pi)\n",
    "\n",
    "# you can use this:\n",
    "from numpy import sqrt, sin, cos, pi\n",
    "sqrt(4), cos(pi)"
   ]
  },
  {
   "cell_type": "markdown",
   "metadata": {},
   "source": [
    "*Try: Import and use the functions \"exp\" and \"log\" from NumPy.*"
   ]
  },
  {
   "cell_type": "code",
   "execution_count": null,
   "metadata": {},
   "outputs": [],
   "source": []
  },
  {
   "cell_type": "markdown",
   "metadata": {},
   "source": [
    "## Python data types"
   ]
  },
  {
   "cell_type": "markdown",
   "metadata": {},
   "source": [
    "### Integer and float\n",
    "\n",
    "Consider the following variables:"
   ]
  },
  {
   "cell_type": "code",
   "execution_count": null,
   "metadata": {},
   "outputs": [],
   "source": [
    "a = 2\n",
    "b = 2.\n",
    "c = 2.6\n",
    "a,type(a),b,type(b),c,type(c)"
   ]
  },
  {
   "cell_type": "markdown",
   "metadata": {},
   "source": [
    "*Try: Use the comparison operator \"==\" to verify that \"a\" and \"b\" have the same value but not the same type.*"
   ]
  },
  {
   "cell_type": "code",
   "execution_count": null,
   "metadata": {},
   "outputs": [],
   "source": []
  },
  {
   "cell_type": "markdown",
   "metadata": {},
   "source": [
    "You can transform a float to an integer using the functions \"int\", \"round\" and also \"ceil\" and \"floor\" from NumPy."
   ]
  },
  {
   "cell_type": "code",
   "execution_count": null,
   "metadata": {},
   "outputs": [],
   "source": [
    "int(b), int(c), round(c), np.floor(c), np.ceil(c)"
   ]
  },
  {
   "cell_type": "markdown",
   "metadata": {},
   "source": [
    "*Try: Divide 9 and 10 by 3 using the different operators \"/\" and \"//\". What are the differences between the results?*"
   ]
  },
  {
   "cell_type": "code",
   "execution_count": null,
   "metadata": {},
   "outputs": [],
   "source": []
  },
  {
   "cell_type": "markdown",
   "metadata": {},
   "source": [
    "### Set, list and range\n",
    "\n",
    "Sets and lists are collections of objects with two main differences. While sets are unordered and their elements are unique, lists are ordered and can contain repeated elements."
   ]
  },
  {
   "cell_type": "code",
   "execution_count": null,
   "metadata": {},
   "outputs": [],
   "source": [
    "aset = {0, 5, 2, 0, 2, 5} # the repeated elements are ignored\n",
    "alist = [0, 5, 2, 0, 2, 5]\n",
    "aset, type(aset), alist, type(alist)"
   ]
  },
  {
   "cell_type": "markdown",
   "metadata": {},
   "source": [
    "To get their lenghts, use function \"len\":"
   ]
  },
  {
   "cell_type": "code",
   "execution_count": null,
   "metadata": {},
   "outputs": [],
   "source": [
    "len(aset), len(alist)"
   ]
  },
  {
   "cell_type": "markdown",
   "metadata": {},
   "source": [
    "To add new elements:"
   ]
  },
  {
   "cell_type": "code",
   "execution_count": null,
   "metadata": {},
   "outputs": [],
   "source": [
    "aset.add(3) # the set is reordered\n",
    "alist.append(3) # new element inserted in the end of the list\n",
    "aset, alist"
   ]
  },
  {
   "cell_type": "markdown",
   "metadata": {},
   "source": [
    "Sets and lists are iterables, so you can use them in loops with \"for\"."
   ]
  },
  {
   "cell_type": "code",
   "execution_count": null,
   "metadata": {},
   "outputs": [],
   "source": [
    "for element in aset:\n",
    "# for element in alist:\n",
    "    print(element)"
   ]
  },
  {
   "cell_type": "markdown",
   "metadata": {},
   "source": [
    "It's very common to use the function \"enumerate\" to iterate over a set or list, so you keep the track of the element index."
   ]
  },
  {
   "cell_type": "code",
   "execution_count": null,
   "metadata": {},
   "outputs": [],
   "source": [
    "# for index, element in enumerate(aset):\n",
    "for index, element in enumerate(alist):\n",
    "    print(index, element)"
   ]
  },
  {
   "cell_type": "markdown",
   "metadata": {},
   "source": [
    "You may also use the function \"range\" which returns a sequence of numbers, but it is not simply a list of items. Both have the same effects used in a for loop, but they are different kind of objects.\n",
    "\n",
    "*Try: Print range(10) and list(range(10)) and check their types to see the difference.*"
   ]
  },
  {
   "cell_type": "code",
   "execution_count": null,
   "metadata": {},
   "outputs": [],
   "source": []
  },
  {
   "cell_type": "markdown",
   "metadata": {},
   "source": [
    "### Dictionary\n",
    "\n",
    "As lists and sets, dictionaries are also collections of objects. The main difference is that dictionary's elements are stored and accessed through keys, instead of indexing.\n",
    "\n",
    "Take a look at a dictionary example:"
   ]
  },
  {
   "cell_type": "code",
   "execution_count": null,
   "metadata": {},
   "outputs": [],
   "source": [
    "mydict = {\n",
    "    'key':'value',\n",
    "    'code':'ttt4185',\n",
    "    'name':'machine learning',\n",
    "    'n_students':60,\n",
    "    'computer_assignments':['python','speech','bayes','dnns']\n",
    "}\n",
    "mydict"
   ]
  },
  {
   "cell_type": "markdown",
   "metadata": {},
   "source": [
    "To access an item's value, use its key:"
   ]
  },
  {
   "cell_type": "code",
   "execution_count": null,
   "metadata": {},
   "outputs": [],
   "source": [
    "mydict['key']"
   ]
  },
  {
   "cell_type": "markdown",
   "metadata": {},
   "source": [
    "You can also get all keys or values separately:"
   ]
  },
  {
   "cell_type": "code",
   "execution_count": null,
   "metadata": {},
   "outputs": [],
   "source": [
    "mydict.keys(),mydict.values()"
   ]
  },
  {
   "cell_type": "markdown",
   "metadata": {},
   "source": [
    "or as key-value pairs:"
   ]
  },
  {
   "cell_type": "code",
   "execution_count": null,
   "metadata": {},
   "outputs": [],
   "source": [
    "mydict.items()"
   ]
  },
  {
   "cell_type": "markdown",
   "metadata": {},
   "source": [
    "*Try: Create two lists with the same lenght (one for keys and one for values) and use them to create a dictionary. To add a new item to a dictionary, you can use \"mydict[newkey]=newvalue\".*"
   ]
  },
  {
   "cell_type": "code",
   "execution_count": null,
   "metadata": {},
   "outputs": [],
   "source": []
  },
  {
   "cell_type": "markdown",
   "metadata": {},
   "source": [
    "## Functions\n",
    "\n",
    "Functions are used to avoid repetition of code, making it reusable and consequentely more organized.\n",
    "\n",
    "Let's define a simple function as an example of the syntax. The arguments \"exponent\" and \"base\" are examples of named and default arguments, respectively. While named arguments are necessary to run a fuction, if a default argument is not given, the function uses its default value."
   ]
  },
  {
   "cell_type": "code",
   "execution_count": null,
   "metadata": {},
   "outputs": [],
   "source": [
    "def mypowerfunction(exponent, base=10):\n",
    "    result = base**exponent\n",
    "    return result"
   ]
  },
  {
   "cell_type": "markdown",
   "metadata": {},
   "source": [
    "Using default value:"
   ]
  },
  {
   "cell_type": "code",
   "execution_count": null,
   "metadata": {},
   "outputs": [],
   "source": [
    "mypowerfunction(2)"
   ]
  },
  {
   "cell_type": "markdown",
   "metadata": {},
   "source": [
    "Using a different base:"
   ]
  },
  {
   "cell_type": "code",
   "execution_count": null,
   "metadata": {},
   "outputs": [],
   "source": [
    "mypowerfunction(2,base=2)"
   ]
  },
  {
   "cell_type": "markdown",
   "metadata": {},
   "source": [
    "*Try: Create a function that greets someone using their name as argument with default value \"you\". Run it with and without a name to check if it's working as expected.*"
   ]
  },
  {
   "cell_type": "code",
   "execution_count": null,
   "metadata": {},
   "outputs": [],
   "source": []
  },
  {
   "cell_type": "markdown",
   "metadata": {},
   "source": [
    "### Global versus local variables\n",
    "\n",
    "What differs a variable to be global or local is if the variable is defined outside or inside a function, respectively. See the following example:"
   ]
  },
  {
   "cell_type": "code",
   "execution_count": null,
   "metadata": {},
   "outputs": [],
   "source": [
    "x = 'global'\n",
    "\n",
    "def afunction():\n",
    "    x = 'local'\n",
    "    return x\n",
    "\n",
    "print(x)\n",
    "print(afunction())"
   ]
  },
  {
   "cell_type": "markdown",
   "metadata": {},
   "source": [
    "To avoid confusion, use different names for global and local variables."
   ]
  },
  {
   "cell_type": "markdown",
   "metadata": {},
   "source": [
    "### How to use your own .py file\n",
    "If you want to use packages and functions from your own .py files on Jupyter notebook, you just need to import your code. If there is any package or function being imported in this file, it will also be available in the notebook.\n",
    "\n",
    "*Try: Create a file called \"mycode.py\" containing a simple function called \"myfunction\", use the command \"import mycode\" and run the function here by using \"mycode.myfunction(arguments).*"
   ]
  },
  {
   "cell_type": "code",
   "execution_count": null,
   "metadata": {},
   "outputs": [],
   "source": []
  },
  {
   "cell_type": "markdown",
   "metadata": {},
   "source": [
    "If there is an error in your .py file, you can use the module \"reload\" from \"importlib\" to debug it in here.\n",
    "\n",
    "*Try: Import importlib, add an error on you file on purpose and use \"importlib.reload(mycode)\" to get the error message.*"
   ]
  },
  {
   "cell_type": "code",
   "execution_count": null,
   "metadata": {},
   "outputs": [],
   "source": []
  },
  {
   "cell_type": "markdown",
   "metadata": {},
   "source": [
    "## Plotting with Matplotlib"
   ]
  },
  {
   "cell_type": "markdown",
   "metadata": {},
   "source": [
    "Import matplotlib and use inline to show the graphs as notebook outputs instead of opening separate windows."
   ]
  },
  {
   "cell_type": "code",
   "execution_count": null,
   "metadata": {},
   "outputs": [],
   "source": [
    "import matplotlib.pyplot as plt\n",
    "%matplotlib inline"
   ]
  },
  {
   "cell_type": "markdown",
   "metadata": {},
   "source": [
    "For a simple single axis plot:"
   ]
  },
  {
   "cell_type": "code",
   "execution_count": null,
   "metadata": {},
   "outputs": [],
   "source": [
    "x = np.linspace(0,4*pi,100)\n",
    "\n",
    "fig, ax = plt.subplots()\n",
    "ax.plot(x,sin(x))"
   ]
  },
  {
   "cell_type": "markdown",
   "metadata": {},
   "source": [
    "For multiple plots, you should add legend and you can also specify colors and line patterns."
   ]
  },
  {
   "cell_type": "code",
   "execution_count": null,
   "metadata": {},
   "outputs": [],
   "source": [
    "fig, ax = plt.subplots()\n",
    "ax.plot(x,sin(x),'r',linestyle=':',label='sin')\n",
    "ax.plot(x,cos(x),'b',linestyle='--',label='cos')\n",
    "ax.legend()"
   ]
  },
  {
   "cell_type": "markdown",
   "metadata": {},
   "source": [
    "For multiple axes:"
   ]
  },
  {
   "cell_type": "code",
   "execution_count": null,
   "metadata": {},
   "outputs": [],
   "source": [
    "fig, axs = plt.subplots(2, 1, figsize=(10,6), sharex=True)\n",
    "\n",
    "axs[0].plot(x,sin(x))\n",
    "axs[0].set(ylabel='sin(x)')\n",
    "\n",
    "axs[1].plot(x+pi,sin(x+pi))\n",
    "axs[1].set(ylabel='sin(x+pi)')"
   ]
  },
  {
   "cell_type": "markdown",
   "metadata": {},
   "source": [
    "*Try: Plot $sin(x)$ and $2sin(x)$ side by side (instead of one on top of the other, like the previous example).*"
   ]
  },
  {
   "cell_type": "code",
   "execution_count": null,
   "metadata": {},
   "outputs": [],
   "source": []
  },
  {
   "cell_type": "markdown",
   "metadata": {},
   "source": [
    "To save a figure that you've created:"
   ]
  },
  {
   "cell_type": "code",
   "execution_count": null,
   "metadata": {},
   "outputs": [],
   "source": [
    "fig.savefig('myawesomeplot.pdf')"
   ]
  },
  {
   "cell_type": "markdown",
   "metadata": {},
   "source": [
    "## NumPy\n",
    "\n",
    "NumPy is a Python package to work with multidimensional vectors. The use of matrices are deprecated, so we use a 2-dimensional array instead.\n",
    "\n",
    "Example: you can write the matrix $A = \\begin{bmatrix}1 & 2\\\\3 & 4\\end{bmatrix}$ as:"
   ]
  },
  {
   "cell_type": "code",
   "execution_count": null,
   "metadata": {},
   "outputs": [],
   "source": [
    "A = np.array([[1, 2],\n",
    "              [3, 4]])"
   ]
  },
  {
   "cell_type": "markdown",
   "metadata": {},
   "source": [
    "Since numpy arrays are row-based, to access a specific row, you just need to use the index:"
   ]
  },
  {
   "cell_type": "code",
   "execution_count": null,
   "metadata": {},
   "outputs": [],
   "source": [
    "print('First row:', A[0]) # or A[0,:]\n",
    "print('Second row:', A[1]) # or A[1,:]"
   ]
  },
  {
   "cell_type": "markdown",
   "metadata": {},
   "source": [
    "To select a specific column:"
   ]
  },
  {
   "cell_type": "code",
   "execution_count": null,
   "metadata": {},
   "outputs": [],
   "source": [
    "print('First column:', A[:,0])\n",
    "print('Second column:', A[:,1])"
   ]
  },
  {
   "cell_type": "markdown",
   "metadata": {},
   "source": [
    "When applying functions to rows or columns, you should specify which axis you want to use. Rows are axis 1 and columns axis 0."
   ]
  },
  {
   "cell_type": "code",
   "execution_count": null,
   "metadata": {},
   "outputs": [],
   "source": [
    "print(\"Mean of the rows' elements:\", A.mean(axis=1))\n",
    "print(\"Mean of the columns' elements:\", A.mean(axis=0))"
   ]
  },
  {
   "cell_type": "markdown",
   "metadata": {},
   "source": [
    "To multiply two matrices, you should use the \"dot\" operator which calculates the dot product between two multidimensional arrays."
   ]
  },
  {
   "cell_type": "code",
   "execution_count": null,
   "metadata": {},
   "outputs": [],
   "source": [
    "A.dot(A) # or np.dot(A,A)"
   ]
  },
  {
   "cell_type": "markdown",
   "metadata": {},
   "source": [
    "*Try: Multiply A by A using the operator asterisk \"$*$\" and guess what calculations are performed.*"
   ]
  },
  {
   "cell_type": "code",
   "execution_count": null,
   "metadata": {},
   "outputs": [],
   "source": []
  },
  {
   "cell_type": "markdown",
   "metadata": {},
   "source": [
    "*Try: Consider the system $Ax = b$. Find the least-squares solution $\\hat{x} = (A^TA)^{-1}A^Tb$ using $A$ and $b$ given in the next code cell.*\n",
    "\n",
    "*To calculate the transpose and inverse of a matrix, use matrix.T and np.linalg.inv(matrix).*"
   ]
  },
  {
   "cell_type": "code",
   "execution_count": null,
   "metadata": {},
   "outputs": [],
   "source": [
    "A = np.array([[0,1],[1,1],[2,1]])\n",
    "b = np.array([[6],[0],[0]])"
   ]
  },
  {
   "cell_type": "code",
   "execution_count": null,
   "metadata": {},
   "outputs": [],
   "source": []
  },
  {
   "cell_type": "markdown",
   "metadata": {},
   "source": [
    "For those who are used to Matlab, we recommend checking this link for differences between Matlab and NumPy:\n",
    "http://mathesaurus.sourceforge.net/matlab-numpy.html"
   ]
  },
  {
   "cell_type": "markdown",
   "metadata": {},
   "source": [
    "## Pandas\n",
    "\n",
    "Pandas is a Python library commonly used in data science. Its main object is called a dataframe which is a 2d-structure, easily manipulated for data exploration."
   ]
  },
  {
   "cell_type": "code",
   "execution_count": null,
   "metadata": {},
   "outputs": [],
   "source": [
    "# here we use a dataset imported from sklearn\n",
    "from sklearn import datasets\n",
    "data = datasets.load_wine()\n",
    "df = pd.DataFrame(data.data, columns = data.feature_names)"
   ]
  },
  {
   "cell_type": "markdown",
   "metadata": {},
   "source": [
    "To view the first or last records of the data:"
   ]
  },
  {
   "cell_type": "code",
   "execution_count": null,
   "metadata": {},
   "outputs": [],
   "source": [
    "df.head()\n",
    "# df.tail()"
   ]
  },
  {
   "cell_type": "markdown",
   "metadata": {},
   "source": [
    "To get some information and statistics of the data:"
   ]
  },
  {
   "cell_type": "code",
   "execution_count": null,
   "metadata": {},
   "outputs": [],
   "source": [
    "df.info()"
   ]
  },
  {
   "cell_type": "code",
   "execution_count": null,
   "metadata": {},
   "outputs": [],
   "source": [
    "df.describe()"
   ]
  },
  {
   "cell_type": "markdown",
   "metadata": {},
   "source": [
    "### Pandas indexing\n",
    "There are many different ways of indexing on Pandas: \".\", \"[]\", \".loc[]\", \".iloc[]\", \".ix[]\", what can sometimes cause confusion.\n",
    "\n",
    "Use \".\" or \"[]\" to select a column:"
   ]
  },
  {
   "cell_type": "code",
   "execution_count": null,
   "metadata": {},
   "outputs": [],
   "source": [
    "df.alcohol.head()"
   ]
  },
  {
   "cell_type": "code",
   "execution_count": null,
   "metadata": {},
   "outputs": [],
   "source": [
    "df['alcohol'].head()"
   ]
  },
  {
   "cell_type": "markdown",
   "metadata": {},
   "source": [
    "You can also use \"[]\" to select multiple columns:"
   ]
  },
  {
   "cell_type": "code",
   "execution_count": null,
   "metadata": {},
   "outputs": [],
   "source": [
    "df[['alcohol','magnesium']].head()"
   ]
  },
  {
   "cell_type": "markdown",
   "metadata": {},
   "source": [
    "Use \".loc[]\" to select columns and elements by their labels:"
   ]
  },
  {
   "cell_type": "code",
   "execution_count": null,
   "metadata": {},
   "outputs": [],
   "source": [
    "df.loc[0]"
   ]
  },
  {
   "cell_type": "code",
   "execution_count": null,
   "metadata": {},
   "outputs": [],
   "source": [
    "df.loc[5:10, ['alcohol','magnesium']]"
   ]
  },
  {
   "cell_type": "markdown",
   "metadata": {},
   "source": [
    "Use \".iloc[]\" to select elements by their positions instead of labels:"
   ]
  },
  {
   "cell_type": "code",
   "execution_count": null,
   "metadata": {},
   "outputs": [],
   "source": [
    "# to show the difference, we will use only a part of the dataframe\n",
    "partofdf = df[['alcohol','magnesium']].tail(10)\n",
    "partofdf"
   ]
  },
  {
   "cell_type": "code",
   "execution_count": null,
   "metadata": {},
   "outputs": [],
   "source": [
    "partofdf.iloc[3:5]"
   ]
  },
  {
   "cell_type": "markdown",
   "metadata": {},
   "source": [
    "The operator \".ix[]\" works primarily as \".loc[]\", i.e., label based. However, if the indexes are integers, \".ix[]\" considers the position.\n",
    "\n",
    "Since it can be a bit confusing, we recommend you to avoid the use of \".ix[]\" to instead use \".loc[]\" and \".iloc[]\", explicitly showing if you are filtering by label or position, respectively."
   ]
  },
  {
   "cell_type": "markdown",
   "metadata": {},
   "source": [
    "### Filtering records by column condition\n",
    "\n",
    "Here is an example on how to filter the dataframe's records by a column condition. We are selecting all the records that has color intensity greater than 5."
   ]
  },
  {
   "cell_type": "code",
   "execution_count": null,
   "metadata": {},
   "outputs": [],
   "source": [
    "df[df['color_intensity']>5]"
   ]
  },
  {
   "cell_type": "markdown",
   "metadata": {},
   "source": [
    "*Try: Filter the dataframe by two conditions instead of only one. Use each condition into parentheses and the operator \"&\" (and) or \"|\" (or) to connect them.*"
   ]
  },
  {
   "cell_type": "code",
   "execution_count": null,
   "metadata": {},
   "outputs": [],
   "source": []
  },
  {
   "cell_type": "markdown",
   "metadata": {},
   "source": [
    "### Your time to explore\n",
    "\n",
    "*Try: Load one of the sklearn datasets (https://scikit-learn.org/stable/datasets/) and explore it by for example plotting histograms (plt.hist(x) or df.hist()) and scatter plots (plt.scatter(x1,x2)) of the variables. Can you see any correlation between them?*"
   ]
  },
  {
   "cell_type": "code",
   "execution_count": null,
   "metadata": {},
   "outputs": [],
   "source": []
  },
  {
   "cell_type": "code",
   "execution_count": null,
   "metadata": {},
   "outputs": [],
   "source": []
  },
  {
   "cell_type": "code",
   "execution_count": null,
   "metadata": {},
   "outputs": [],
   "source": []
  },
  {
   "cell_type": "markdown",
   "metadata": {},
   "source": [
    "## Last tips: Solving mistakes on code\n",
    "\n",
    "The best way to not get an error is, of course, to avoid mistakes. Get used to check if each new line you write looks correct before jumping to the next one. But even doing it, we are still going to bump into mistakes.\n",
    "\n",
    "If your code is raising an error message, you can go directly to the core problem. In case you don't understand what the error means, search it on Stack overflow for example https://stackoverflow.com/. Python has a huge community and most errors you encounter have already been discussed there.\n",
    "\n",
    "If there are no error messages, but you are not getting the expected result, there are also a few tips to debug your code and find mistakes:\n",
    "- print variables and look for inconsistences\n",
    "- check if variables' types are correct\n",
    "- check arrays' shapes\n",
    "- plot intermediary results\n",
    "- break complex expressions into simpler ones"
   ]
  }
 ],
 "metadata": {
  "jupytext": {
   "formats": "ipynb,py:light"
  },
  "kernelspec": {
   "display_name": "Python 3",
   "language": "python",
   "name": "python3"
  }
 },
 "nbformat": 4,
 "nbformat_minor": 4
}
